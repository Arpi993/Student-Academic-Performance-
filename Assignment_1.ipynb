{
  "cells": [
    {
      "cell_type": "code",
      "source": [
        "import pandas as pd\n",
        "import os\n",
        "\n",
        "def calculate_target_variables():\n",
        "    # assign values to variables\n",
        "    a = float(input(\"Enter 1-1 semester percentage: \"))\n",
        "    b = float(input(\"Enter 1-2 semester percentage: \"))\n",
        "    c = float(input(\"Enter 2-1 semester percentage: \"))\n",
        "    d = float(input(\"Enter 2-2 semester percentage: \"))\n",
        "    e = float(input(\"Enter 3-1 semester percentage: \"))\n",
        "    f = float(input(\"Enter 3-2 semester percentage: \"))\n",
        "    g = float(input(\"Enter attendance percentage: \"))\n",
        "    h = input(\"Do you have any extracurricular activities? (yes/no) \")\n",
        "    i = input(\"Do you have any academic awards and achievements? (yes/no) \")\n",
        "    j = input(\"Do you have coding skills? (yes/no) \")\n",
        "    \n",
        "    # create a list of semester grades\n",
        "    semester_grades = [a, b, c, d, e, f]\n",
        "    \n",
        "    # calculate dropout\n",
        "    dropout = 1 if min(semester_grades) < 35 and g < 30 else 0\n",
        "    \n",
        "    # calculate good performance\n",
        "    good_performance = 1 if all(grade > 60 for grade in semester_grades) else 0\n",
        "    \n",
        "    # calculate poor performance\n",
        "    poor_performance = 1 if max(semester_grades) < 40 else 0\n",
        "    \n",
        "    # calculate support required\n",
        "    support_required = 1 if any(40 <= grade < 60 for grade in semester_grades) else 0\n",
        "    \n",
        "    # calculate eligibility for placement\n",
        "    eligible_for_placement = 1 if all(grade > 65 for grade in semester_grades) and (j.lower() == \"yes\" or i.lower() == \"yes\" or h.lower() == \"yes\") else 0\n",
        "    \n",
        "    # create a dictionary with the results\n",
        "    results= {\"1-1\": a,\n",
        "               \"1-2\": b,\n",
        "               \"2-1\": c,\n",
        "               \"2-2\": d,\n",
        "               \"3-1\": e,\n",
        "               \"3-2\": f,\n",
        "               \"attendance\": g,\n",
        "               \"extracurricular_activities\": h,\n",
        "               \"academic_awards\": i,\n",
        "               \"coding_skills\": j,\n",
        "               \"dropout\": dropout,\n",
        "               \"good_performance\": good_performance,\n",
        "               \"poor_performance\": poor_performance,\n",
        "               \"support_required\": support_required,\n",
        "               \"eligible_for_placement\": eligible_for_placement}\n",
        "    \n",
        "    # return the results\n",
        "    return results\n",
        "\n",
        "\n",
        "# create a list to store the results\n",
        "results_list = []\n",
        "# check if the CSV file exists\n",
        "if os.path.exists(\"results.csv\"):\n",
        "    # read the existing df from the CSV file\n",
        "    existing_df = pd.read_csv(\"results.csv\")\n",
        "else:\n",
        "    # create an empty dfFrame\n",
        "    existing_df = pd.DataFrame()\n",
        "\n",
        "# call the function to calculate the target variables\n",
        "results= calculate_target_variables()\n",
        "\n",
        "# convert the dictionary of results to a dfFrame\n",
        "new_df = pd.DataFrame([results])\n",
        "# append the new df to the existing dfFrame\n",
        "new_df = pd.concat([existing_df, new_df], ignore_index=True)\n",
        "# save the dfFrame to the CSV file\n",
        "new_df.to_csv(\"results.csv\",index=False)\n"
      ],
      "metadata": {
        "colab": {
          "base_uri": "https://localhost:8080/"
        },
        "id": "MHPqXZAodSfi",
        "outputId": "afb10df6-7a74-4b8f-f2d8-e3c4790362fe"
      },
      "execution_count": null,
      "outputs": [
        {
          "name": "stdout",
          "output_type": "stream",
          "text": [
            "Enter 1-1 semester percentage: 87\n",
            "Enter 1-2 semester percentage: 66\n",
            "Enter 2-1 semester percentage: 78\n",
            "Enter 2-2 semester percentage: 77\n",
            "Enter 3-1 semester percentage: 76\n",
            "Enter 3-2 semester percentage: 67\n",
            "Enter attendance percentage: 75\n",
            "Do you have any extracurricular activities? (yes/no) yes\n",
            "Do you have any academic awards and achievements? (yes/no) yes\n",
            "Do you have coding skills? (yes/no) yes\n"
          ]
        }
      ]
    },
    {
      "cell_type": "code",
      "source": [
        "import pandas as pd\n",
        "import numpy as np\n",
        "import matplotlib.pyplot as plt\n",
        "import seaborn as sns\n",
        "from sklearn.model_selection import train_test_split\n",
        "from keras.models import Sequential\n",
        "from keras.layers import LSTM, Dense"
      ],
      "metadata": {
        "id": "BoF4jsD_dShs"
      },
      "execution_count": null,
      "outputs": []
    },
    {
      "cell_type": "code",
      "source": [
        "from google.colab import files\n",
        "uploaded= files.upload()"
      ],
      "metadata": {
        "colab": {
          "base_uri": "https://localhost:8080/",
          "height": 73
        },
        "id": "04URfNIJiCs8",
        "outputId": "3773f99a-dfa8-4634-ec3d-1aefc8c85d01"
      },
      "execution_count": null,
      "outputs": [
        {
          "output_type": "display_data",
          "data": {
            "text/plain": [
              "<IPython.core.display.HTML object>"
            ],
            "text/html": [
              "\n",
              "     <input type=\"file\" id=\"files-6fccf25d-54d1-468d-852e-0a6085a4c49b\" name=\"files[]\" multiple disabled\n",
              "        style=\"border:none\" />\n",
              "     <output id=\"result-6fccf25d-54d1-468d-852e-0a6085a4c49b\">\n",
              "      Upload widget is only available when the cell has been executed in the\n",
              "      current browser session. Please rerun this cell to enable.\n",
              "      </output>\n",
              "      <script>// Copyright 2017 Google LLC\n",
              "//\n",
              "// Licensed under the Apache License, Version 2.0 (the \"License\");\n",
              "// you may not use this file except in compliance with the License.\n",
              "// You may obtain a copy of the License at\n",
              "//\n",
              "//      http://www.apache.org/licenses/LICENSE-2.0\n",
              "//\n",
              "// Unless required by applicable law or agreed to in writing, software\n",
              "// distributed under the License is distributed on an \"AS IS\" BASIS,\n",
              "// WITHOUT WARRANTIES OR CONDITIONS OF ANY KIND, either express or implied.\n",
              "// See the License for the specific language governing permissions and\n",
              "// limitations under the License.\n",
              "\n",
              "/**\n",
              " * @fileoverview Helpers for google.colab Python module.\n",
              " */\n",
              "(function(scope) {\n",
              "function span(text, styleAttributes = {}) {\n",
              "  const element = document.createElement('span');\n",
              "  element.textContent = text;\n",
              "  for (const key of Object.keys(styleAttributes)) {\n",
              "    element.style[key] = styleAttributes[key];\n",
              "  }\n",
              "  return element;\n",
              "}\n",
              "\n",
              "// Max number of bytes which will be uploaded at a time.\n",
              "const MAX_PAYLOAD_SIZE = 100 * 1024;\n",
              "\n",
              "function _uploadFiles(inputId, outputId) {\n",
              "  const steps = uploadFilesStep(inputId, outputId);\n",
              "  const outputElement = document.getElementById(outputId);\n",
              "  // Cache steps on the outputElement to make it available for the next call\n",
              "  // to uploadFilesContinue from Python.\n",
              "  outputElement.steps = steps;\n",
              "\n",
              "  return _uploadFilesContinue(outputId);\n",
              "}\n",
              "\n",
              "// This is roughly an async generator (not supported in the browser yet),\n",
              "// where there are multiple asynchronous steps and the Python side is going\n",
              "// to poll for completion of each step.\n",
              "// This uses a Promise to block the python side on completion of each step,\n",
              "// then passes the result of the previous step as the input to the next step.\n",
              "function _uploadFilesContinue(outputId) {\n",
              "  const outputElement = document.getElementById(outputId);\n",
              "  const steps = outputElement.steps;\n",
              "\n",
              "  const next = steps.next(outputElement.lastPromiseValue);\n",
              "  return Promise.resolve(next.value.promise).then((value) => {\n",
              "    // Cache the last promise value to make it available to the next\n",
              "    // step of the generator.\n",
              "    outputElement.lastPromiseValue = value;\n",
              "    return next.value.response;\n",
              "  });\n",
              "}\n",
              "\n",
              "/**\n",
              " * Generator function which is called between each async step of the upload\n",
              " * process.\n",
              " * @param {string} inputId Element ID of the input file picker element.\n",
              " * @param {string} outputId Element ID of the output display.\n",
              " * @return {!Iterable<!Object>} Iterable of next steps.\n",
              " */\n",
              "function* uploadFilesStep(inputId, outputId) {\n",
              "  const inputElement = document.getElementById(inputId);\n",
              "  inputElement.disabled = false;\n",
              "\n",
              "  const outputElement = document.getElementById(outputId);\n",
              "  outputElement.innerHTML = '';\n",
              "\n",
              "  const pickedPromise = new Promise((resolve) => {\n",
              "    inputElement.addEventListener('change', (e) => {\n",
              "      resolve(e.target.files);\n",
              "    });\n",
              "  });\n",
              "\n",
              "  const cancel = document.createElement('button');\n",
              "  inputElement.parentElement.appendChild(cancel);\n",
              "  cancel.textContent = 'Cancel upload';\n",
              "  const cancelPromise = new Promise((resolve) => {\n",
              "    cancel.onclick = () => {\n",
              "      resolve(null);\n",
              "    };\n",
              "  });\n",
              "\n",
              "  // Wait for the user to pick the files.\n",
              "  const files = yield {\n",
              "    promise: Promise.race([pickedPromise, cancelPromise]),\n",
              "    response: {\n",
              "      action: 'starting',\n",
              "    }\n",
              "  };\n",
              "\n",
              "  cancel.remove();\n",
              "\n",
              "  // Disable the input element since further picks are not allowed.\n",
              "  inputElement.disabled = true;\n",
              "\n",
              "  if (!files) {\n",
              "    return {\n",
              "      response: {\n",
              "        action: 'complete',\n",
              "      }\n",
              "    };\n",
              "  }\n",
              "\n",
              "  for (const file of files) {\n",
              "    const li = document.createElement('li');\n",
              "    li.append(span(file.name, {fontWeight: 'bold'}));\n",
              "    li.append(span(\n",
              "        `(${file.type || 'n/a'}) - ${file.size} bytes, ` +\n",
              "        `last modified: ${\n",
              "            file.lastModifiedDate ? file.lastModifiedDate.toLocaleDateString() :\n",
              "                                    'n/a'} - `));\n",
              "    const percent = span('0% done');\n",
              "    li.appendChild(percent);\n",
              "\n",
              "    outputElement.appendChild(li);\n",
              "\n",
              "    const fileDataPromise = new Promise((resolve) => {\n",
              "      const reader = new FileReader();\n",
              "      reader.onload = (e) => {\n",
              "        resolve(e.target.result);\n",
              "      };\n",
              "      reader.readAsArrayBuffer(file);\n",
              "    });\n",
              "    // Wait for the data to be ready.\n",
              "    let fileData = yield {\n",
              "      promise: fileDataPromise,\n",
              "      response: {\n",
              "        action: 'continue',\n",
              "      }\n",
              "    };\n",
              "\n",
              "    // Use a chunked sending to avoid message size limits. See b/62115660.\n",
              "    let position = 0;\n",
              "    do {\n",
              "      const length = Math.min(fileData.byteLength - position, MAX_PAYLOAD_SIZE);\n",
              "      const chunk = new Uint8Array(fileData, position, length);\n",
              "      position += length;\n",
              "\n",
              "      const base64 = btoa(String.fromCharCode.apply(null, chunk));\n",
              "      yield {\n",
              "        response: {\n",
              "          action: 'append',\n",
              "          file: file.name,\n",
              "          data: base64,\n",
              "        },\n",
              "      };\n",
              "\n",
              "      let percentDone = fileData.byteLength === 0 ?\n",
              "          100 :\n",
              "          Math.round((position / fileData.byteLength) * 100);\n",
              "      percent.textContent = `${percentDone}% done`;\n",
              "\n",
              "    } while (position < fileData.byteLength);\n",
              "  }\n",
              "\n",
              "  // All done.\n",
              "  yield {\n",
              "    response: {\n",
              "      action: 'complete',\n",
              "    }\n",
              "  };\n",
              "}\n",
              "\n",
              "scope.google = scope.google || {};\n",
              "scope.google.colab = scope.google.colab || {};\n",
              "scope.google.colab._files = {\n",
              "  _uploadFiles,\n",
              "  _uploadFilesContinue,\n",
              "};\n",
              "})(self);\n",
              "</script> "
            ]
          },
          "metadata": {}
        },
        {
          "output_type": "stream",
          "name": "stdout",
          "text": [
            "Saving student_performance.csv to student_performance (1).csv\n"
          ]
        }
      ]
    },
    {
      "cell_type": "code",
      "source": [
        "# 2. Load the dfset of student academic performance metrics\n",
        "data = pd.read_csv(\"student_performance.csv\")\n",
        "print(data)"
      ],
      "metadata": {
        "colab": {
          "base_uri": "https://localhost:8080/"
        },
        "id": "a0aOJVahdSjt",
        "outputId": "7d35b49c-064a-44fe-c691-58cda64a46b7"
      },
      "execution_count": null,
      "outputs": [
        {
          "output_type": "stream",
          "name": "stdout",
          "text": [
            "    01-Jan  01-Feb  02-Jan  02-Feb  03-Jan  03-Feb  attendance  \\\n",
            "0     80.5    75.0    85.5    81.0    90.0    85.0          75   \n",
            "1     65.0    60.5    70.5    65.5    72.5    68.5          80   \n",
            "2     45.0    50.0    60.5    55.0    62.0    58.0          60   \n",
            "3     80.0    75.0    85.5    81.0    90.0    85.5          75   \n",
            "4     80.5    75.0    85.5    81.0    90.0    85.5          75   \n",
            "5     64.0    60.5    70.5    65.5    72.5    68.5          80   \n",
            "6     45.0    50.0    60.5    55.0    62.0    58.0          60   \n",
            "7     70.0    68.0    72.0    70.5    75.0    73.0          90   \n",
            "8     85.0    80.0    87.5    82.0    92.0    88.0          80   \n",
            "9     50.0    55.0    60.0    65.0    70.0    68.0          50   \n",
            "10    90.0    85.0    92.5    88.0    95.0    92.0          95   \n",
            "11    75.0    72.0    77.5    74.0    80.5    78.5          85   \n",
            "12    40.0    45.0    50.0    55.0    60.0    58.0          40   \n",
            "13    55.0    60.0    62.0    65.5    70.0    68.5          70   \n",
            "14    20.0    24.0    22.0    28.0    33.0    35.0          45   \n",
            "15    30.0    33.0    38.0    30.0    32.0    38.0          39   \n",
            "16    20.0    40.0    22.0    30.0    25.0    50.0          30   \n",
            "\n",
            "   extracurricular_activities academic_awards coding_skills  dropout  \\\n",
            "0                         yes              no           yes        0   \n",
            "1                          no             yes           yes        0   \n",
            "2                          no              no            no        0   \n",
            "3                         yes              no           yes        0   \n",
            "4                         yes              no           yes        0   \n",
            "5                          no             yes           yes        0   \n",
            "6                          no              no            no        0   \n",
            "7                         yes              no           yes        0   \n",
            "8                         yes             yes           yes        0   \n",
            "9                          no              no            no        0   \n",
            "10                        yes             yes           yes        0   \n",
            "11                        yes             yes            no        0   \n",
            "12                         no              no            no        0   \n",
            "13                         no              no            no        0   \n",
            "14                         no              no            no        0   \n",
            "15                         no              no            no        0   \n",
            "16                         no              no            no        0   \n",
            "\n",
            "    good_performance  poor_performance  support_required  \\\n",
            "0                  1                 0                 0   \n",
            "1                  1                 0                 0   \n",
            "2                  0                 0                 1   \n",
            "3                  1                 0                 0   \n",
            "4                  1                 0                 0   \n",
            "5                  1                 0                 0   \n",
            "6                  0                 0                 1   \n",
            "7                  1                 0                 0   \n",
            "8                  1                 0                 0   \n",
            "9                  0                 0                 1   \n",
            "10                 0                 0                 0   \n",
            "11                 1                 0                 0   \n",
            "12                 0                 0                 1   \n",
            "13                 0                 0                 1   \n",
            "14                 0                 1                 0   \n",
            "15                 0                 1                 0   \n",
            "16                 0                 0                 1   \n",
            "\n",
            "    eligible_for_placement  \n",
            "0                        1  \n",
            "1                        0  \n",
            "2                        0  \n",
            "3                        1  \n",
            "4                        1  \n",
            "5                        0  \n",
            "6                        0  \n",
            "7                        1  \n",
            "8                        1  \n",
            "9                        0  \n",
            "10                       0  \n",
            "11                       1  \n",
            "12                       0  \n",
            "13                       0  \n",
            "14                       0  \n",
            "15                       0  \n",
            "16                       0  \n"
          ]
        }
      ]
    },
    {
      "cell_type": "code",
      "source": [
        "data = data.drop_duplicates()\n",
        "data = data.reset_index(drop=True)"
      ],
      "metadata": {
        "id": "q23qZIApwHwP"
      },
      "execution_count": null,
      "outputs": []
    },
    {
      "cell_type": "code",
      "source": [
        "print(data)"
      ],
      "metadata": {
        "colab": {
          "base_uri": "https://localhost:8080/"
        },
        "id": "OGrJfaDOe-63",
        "outputId": "7e48f850-8120-4d7e-d2d6-23ca1476833e"
      },
      "execution_count": null,
      "outputs": [
        {
          "output_type": "stream",
          "name": "stdout",
          "text": [
            "    01-Jan  01-Feb  02-Jan  02-Feb  03-Jan  03-Feb  attendance  \\\n",
            "0     80.5    75.0    85.5    81.0    90.0    85.0          75   \n",
            "1     65.0    60.5    70.5    65.5    72.5    68.5          80   \n",
            "2     45.0    50.0    60.5    55.0    62.0    58.0          60   \n",
            "3     80.0    75.0    85.5    81.0    90.0    85.5          75   \n",
            "4     80.5    75.0    85.5    81.0    90.0    85.5          75   \n",
            "5     64.0    60.5    70.5    65.5    72.5    68.5          80   \n",
            "6     70.0    68.0    72.0    70.5    75.0    73.0          90   \n",
            "7     85.0    80.0    87.5    82.0    92.0    88.0          80   \n",
            "8     50.0    55.0    60.0    65.0    70.0    68.0          50   \n",
            "9     90.0    85.0    92.5    88.0    95.0    92.0          95   \n",
            "10    75.0    72.0    77.5    74.0    80.5    78.5          85   \n",
            "11    40.0    45.0    50.0    55.0    60.0    58.0          40   \n",
            "12    55.0    60.0    62.0    65.5    70.0    68.5          70   \n",
            "13    20.0    24.0    22.0    28.0    33.0    35.0          45   \n",
            "14    30.0    33.0    38.0    30.0    32.0    38.0          39   \n",
            "15    20.0    40.0    22.0    30.0    25.0    50.0          30   \n",
            "\n",
            "   extracurricular_activities academic_awards coding_skills  dropout  \\\n",
            "0                         yes              no           yes        0   \n",
            "1                          no             yes           yes        0   \n",
            "2                          no              no            no        0   \n",
            "3                         yes              no           yes        0   \n",
            "4                         yes              no           yes        0   \n",
            "5                          no             yes           yes        0   \n",
            "6                         yes              no           yes        0   \n",
            "7                         yes             yes           yes        0   \n",
            "8                          no              no            no        0   \n",
            "9                         yes             yes           yes        0   \n",
            "10                        yes             yes            no        0   \n",
            "11                         no              no            no        0   \n",
            "12                         no              no            no        0   \n",
            "13                         no              no            no        0   \n",
            "14                         no              no            no        0   \n",
            "15                         no              no            no        0   \n",
            "\n",
            "    good_performance  poor_performance  support_required  \\\n",
            "0                  1                 0                 0   \n",
            "1                  1                 0                 0   \n",
            "2                  0                 0                 1   \n",
            "3                  1                 0                 0   \n",
            "4                  1                 0                 0   \n",
            "5                  1                 0                 0   \n",
            "6                  1                 0                 0   \n",
            "7                  1                 0                 0   \n",
            "8                  0                 0                 1   \n",
            "9                  0                 0                 0   \n",
            "10                 1                 0                 0   \n",
            "11                 0                 0                 1   \n",
            "12                 0                 0                 1   \n",
            "13                 0                 1                 0   \n",
            "14                 0                 1                 0   \n",
            "15                 0                 0                 1   \n",
            "\n",
            "    eligible_for_placement  \n",
            "0                        1  \n",
            "1                        0  \n",
            "2                        0  \n",
            "3                        1  \n",
            "4                        1  \n",
            "5                        0  \n",
            "6                        1  \n",
            "7                        1  \n",
            "8                        0  \n",
            "9                        0  \n",
            "10                       1  \n",
            "11                       0  \n",
            "12                       0  \n",
            "13                       0  \n",
            "14                       0  \n",
            "15                       0  \n"
          ]
        }
      ]
    },
    {
      "cell_type": "markdown",
      "source": [
        "Clean the df"
      ],
      "metadata": {
        "id": "4R5pqoC4gPEp"
      }
    },
    {
      "cell_type": "code",
      "source": [
        "'''data= data.dropna()\n",
        "X = data.iloc[:, :14].values\n",
        "y = data.iloc[:, 14:].values'''\n",
        "data['cumulative_percentage'] = data.sum(axis=1)\n",
        "data['performance'] = np.where(data['good_performance']==1, 'good',\n",
        "                               np.where(data['poor_performance']==1, 'poor',\n",
        "                                        np.where(data['support_required']==1, 'support',\n",
        "                                                 np.where(data['dropout']==1, 'dropout', 'unknown'))))\n"
      ],
      "metadata": {
        "id": "h2Tc3XTadSnP",
        "colab": {
          "base_uri": "https://localhost:8080/"
        },
        "outputId": "bd1790d5-25eb-4a7c-82e1-c26c4941faed"
      },
      "execution_count": null,
      "outputs": [
        {
          "output_type": "stream",
          "name": "stderr",
          "text": [
            "<ipython-input-28-69862e06c460>:4: FutureWarning: Dropping of nuisance columns in DataFrame reductions (with 'numeric_only=None') is deprecated; in a future version this will raise TypeError.  Select only valid columns before calling the reduction.\n",
            "  data['cumulative_percentage'] = data.sum(axis=1)\n"
          ]
        }
      ]
    },
    {
      "cell_type": "code",
      "source": [
        "# Displaying the output of academic performance\n",
        "print(data[['cumulative_percentage', 'performance']].sort_values(by='cumulative_percentage', ascending=False))\n"
      ],
      "metadata": {
        "colab": {
          "base_uri": "https://localhost:8080/"
        },
        "id": "jHC-OispwWnN",
        "outputId": "06648bfc-6229-4464-8c70-271db4ec5279"
      },
      "execution_count": null,
      "outputs": [
        {
          "output_type": "stream",
          "name": "stdout",
          "text": [
            "    cumulative_percentage performance\n",
            "9                   637.5     unknown\n",
            "7                   596.5        good\n",
            "4                   574.5        good\n",
            "0                   574.0        good\n",
            "3                   574.0        good\n",
            "10                  544.5        good\n",
            "6                   520.5        good\n",
            "1                   483.5        good\n",
            "5                   482.5        good\n",
            "12                  452.0     support\n",
            "8                   419.0     support\n",
            "2                   391.5     support\n",
            "11                  349.0     support\n",
            "14                  241.0        poor\n",
            "15                  218.0     support\n",
            "13                  208.0        poor\n"
          ]
        }
      ]
    },
    {
      "cell_type": "code",
      "source": [
        "'''cumulative_percentage = np.sum(X[:, [0,2,4,6]]/2, axis=1)\n",
        "good_performers = np.where(cumulative_percentage>=75, 1, 0)\n",
        "poor_performers = np.where(cumulative_percentage<50, 1, 0)\n",
        "support_required = np.where((cumulative_percentage>=50) & (cumulative_percentage<75), 1, 0)\n",
        "dropout = y[:, 0]\n",
        "placement_eligibility = y'''\n",
        "import seaborn as sns\n",
        "sns.pairplot(data[['cumulative_percentage', 'attendance', 'extracurricular_activities', 'academic_awards', 'coding_skills', 'performance']], hue='performance') "
      ],
      "metadata": {
        "id": "IsebtMMKgSdf",
        "colab": {
          "base_uri": "https://localhost:8080/",
          "height": 530
        },
        "outputId": "b389061f-8f8b-461e-a7ec-35595430aa75"
      },
      "execution_count": null,
      "outputs": [
        {
          "output_type": "execute_result",
          "data": {
            "text/plain": [
              "<seaborn.axisgrid.PairGrid at 0x7f2e84028df0>"
            ]
          },
          "metadata": {},
          "execution_count": 30
        },
        {
          "output_type": "display_data",
          "data": {
            "text/plain": [
              "<Figure size 613x500 with 6 Axes>"
            ],
            "image/png": "[encoded data removed]"
          },
          "metadata": {}
        }
      ]
    },
    {
      "cell_type": "code",
      "source": [
        "# Convert 'yes' and 'no' to numerical values\n",
        "data['good_performance'] = data['good_performance'].replace({'yes': 1, 'no': 0})\n",
        "data['poor_performance'] = data['poor_performance'].replace({'yes': 1, 'no': 0})\n",
        "data['support_required'] = data['support_required'].replace({'yes': 1, 'no': 0})\n",
        "data['dropout'] = data['dropout'].replace({'yes': 1, 'no': 0})\n",
        "data['coding_skills'] = data['coding_skills'].replace({'yes': 1, 'no': 0})\n",
        "data['academic_awards'] = data['academic_awards'].replace({'yes': 1, 'no': 0})\n",
        "data['extracurricular_activities'] = data['extracurricular_activities'].replace({'yes': 1, 'no': 0})\n",
        "print(data)"
      ],
      "metadata": {
        "colab": {
          "base_uri": "https://localhost:8080/"
        },
        "id": "mKlZ3WXu_a_X",
        "outputId": "a44b436d-e5f0-4f11-eff5-5319fdfe6879"
      },
      "execution_count": null,
      "outputs": [
        {
          "output_type": "stream",
          "name": "stdout",
          "text": [
            "    01-Jan  01-Feb  02-Jan  02-Feb  03-Jan  03-Feb  attendance  \\\n",
            "0     80.5    75.0    85.5    81.0    90.0    85.0          75   \n",
            "1     65.0    60.5    70.5    65.5    72.5    68.5          80   \n",
            "2     45.0    50.0    60.5    55.0    62.0    58.0          60   \n",
            "3     80.0    75.0    85.5    81.0    90.0    85.5          75   \n",
            "4     80.5    75.0    85.5    81.0    90.0    85.5          75   \n",
            "5     64.0    60.5    70.5    65.5    72.5    68.5          80   \n",
            "6     70.0    68.0    72.0    70.5    75.0    73.0          90   \n",
            "7     85.0    80.0    87.5    82.0    92.0    88.0          80   \n",
            "8     50.0    55.0    60.0    65.0    70.0    68.0          50   \n",
            "9     90.0    85.0    92.5    88.0    95.0    92.0          95   \n",
            "10    75.0    72.0    77.5    74.0    80.5    78.5          85   \n",
            "11    40.0    45.0    50.0    55.0    60.0    58.0          40   \n",
            "12    55.0    60.0    62.0    65.5    70.0    68.5          70   \n",
            "13    20.0    24.0    22.0    28.0    33.0    35.0          45   \n",
            "14    30.0    33.0    38.0    30.0    32.0    38.0          39   \n",
            "15    20.0    40.0    22.0    30.0    25.0    50.0          30   \n",
            "\n",
            "    extracurricular_activities  academic_awards  coding_skills  dropout  \\\n",
            "0                            1                0              1        0   \n",
            "1                            0                1              1        0   \n",
            "2                            0                0              0        0   \n",
            "3                            1                0              1        0   \n",
            "4                            1                0              1        0   \n",
            "5                            0                1              1        0   \n",
            "6                            1                0              1        0   \n",
            "7                            1                1              1        0   \n",
            "8                            0                0              0        0   \n",
            "9                            1                1              1        0   \n",
            "10                           1                1              0        0   \n",
            "11                           0                0              0        0   \n",
            "12                           0                0              0        0   \n",
            "13                           0                0              0        0   \n",
            "14                           0                0              0        0   \n",
            "15                           0                0              0        0   \n",
            "\n",
            "    good_performance  poor_performance  support_required  \\\n",
            "0                  1                 0                 0   \n",
            "1                  1                 0                 0   \n",
            "2                  0                 0                 1   \n",
            "3                  1                 0                 0   \n",
            "4                  1                 0                 0   \n",
            "5                  1                 0                 0   \n",
            "6                  1                 0                 0   \n",
            "7                  1                 0                 0   \n",
            "8                  0                 0                 1   \n",
            "9                  0                 0                 0   \n",
            "10                 1                 0                 0   \n",
            "11                 0                 0                 1   \n",
            "12                 0                 0                 1   \n",
            "13                 0                 1                 0   \n",
            "14                 0                 1                 0   \n",
            "15                 0                 0                 1   \n",
            "\n",
            "    eligible_for_placement  cumulative_percentage performance  \n",
            "0                        1                  574.0        good  \n",
            "1                        0                  483.5        good  \n",
            "2                        0                  391.5     support  \n",
            "3                        1                  574.0        good  \n",
            "4                        1                  574.5        good  \n",
            "5                        0                  482.5        good  \n",
            "6                        1                  520.5        good  \n",
            "7                        1                  596.5        good  \n",
            "8                        0                  419.0     support  \n",
            "9                        0                  637.5     unknown  \n",
            "10                       1                  544.5        good  \n",
            "11                       0                  349.0     support  \n",
            "12                       0                  452.0     support  \n",
            "13                       0                  208.0        poor  \n",
            "14                       0                  241.0        poor  \n",
            "15                       0                  218.0     support  \n"
          ]
        }
      ]
    },
    {
      "cell_type": "code",
      "source": [
        "# Preparing the data for the LSTM model\n",
        "X = data[['01-Jan', '01-Feb', '02-Jan', '02-Feb', '03-Jan', '03-Feb', 'attendance', 'extracurricular_activities', 'academic_awards', 'coding_skills']].values.astype('float32')\n",
        "y = data[['good_performance', 'poor_performance', 'support_required', 'dropout']].values.astype('float32')"
      ],
      "metadata": {
        "id": "lsr3Zs6xkcb5"
      },
      "execution_count": null,
      "outputs": []
    },
    {
      "cell_type": "code",
      "source": [
        "# Splitting the data into training and testing sets\n",
        "X_train, X_test, y_train, y_test = train_test_split(X, y, test_size=0.2, random_state=42)"
      ],
      "metadata": {
        "id": "Tkc8IoLWyKqw"
      },
      "execution_count": null,
      "outputs": []
    },
    {
      "cell_type": "code",
      "source": [
        "# Reshaping the input data into the required format for LSTM modeling\n",
        "X_train = X_train.reshape(X_train.shape[0], X_train.shape[1], 1)\n",
        "X_test = X_test.reshape(X_test.shape[0], X_test.shape[1], 1)\n"
      ],
      "metadata": {
        "id": "6dMtbY95ybUQ"
      },
      "execution_count": null,
      "outputs": []
    },
    {
      "cell_type": "code",
      "source": [
        "# Building and compiling the LSTM model\n",
        "model = Sequential()\n",
        "model.add(LSTM(64, input_shape=(X_train.shape[1], 1)))\n",
        "model.add(Dense(4, activation='sigmoid'))\n",
        "model.compile(loss='binary_crossentropy', optimizer='adam', metrics=['accuracy'])"
      ],
      "metadata": {
        "id": "L_G5uqMLgbRe"
      },
      "execution_count": null,
      "outputs": []
    },
    {
      "cell_type": "code",
      "source": [
        "# Training the LSTM model on the training data\n",
        "history=model.fit(X_train, y_train, epochs=50, batch_size=32, validation_data=(X_test, y_test))"
      ],
      "metadata": {
        "colab": {
          "base_uri": "https://localhost:8080/"
        },
        "id": "lISfhj7mgbbN",
        "outputId": "b9ff8219-fe6f-4905-b958-5fb42e090264"
      },
      "execution_count": null,
      "outputs": [
        {
          "output_type": "stream",
          "name": "stdout",
          "text": [
            "Epoch 1/50\n",
            "1/1 [==============================] - 3s 3s/step - loss: 0.7845 - accuracy: 0.0000e+00 - val_loss: 0.7789 - val_accuracy: 0.0000e+00\n",
            "Epoch 2/50\n",
            "1/1 [==============================] - 0s 41ms/step - loss: 0.7537 - accuracy: 0.0000e+00 - val_loss: 0.7520 - val_accuracy: 0.0000e+00\n",
            "Epoch 3/50\n",
            "1/1 [==============================] - 0s 39ms/step - loss: 0.7244 - accuracy: 0.0833 - val_loss: 0.7271 - val_accuracy: 0.0000e+00\n",
            "Epoch 4/50\n",
            "1/1 [==============================] - 0s 45ms/step - loss: 0.6971 - accuracy: 0.2500 - val_loss: 0.7045 - val_accuracy: 0.0000e+00\n",
            "Epoch 5/50\n",
            "1/1 [==============================] - 0s 59ms/step - loss: 0.6720 - accuracy: 0.4167 - val_loss: 0.6843 - val_accuracy: 0.0000e+00\n",
            "Epoch 6/50\n",
            "1/1 [==============================] - 0s 40ms/step - loss: 0.6495 - accuracy: 0.4167 - val_loss: 0.6666 - val_accuracy: 0.0000e+00\n",
            "Epoch 7/50\n",
            "1/1 [==============================] - 0s 41ms/step - loss: 0.6295 - accuracy: 0.4167 - val_loss: 0.6501 - val_accuracy: 0.0000e+00\n",
            "Epoch 8/50\n",
            "1/1 [==============================] - 0s 39ms/step - loss: 0.6112 - accuracy: 0.4167 - val_loss: 0.6340 - val_accuracy: 0.0000e+00\n",
            "Epoch 9/50\n",
            "1/1 [==============================] - 0s 43ms/step - loss: 0.5938 - accuracy: 0.4167 - val_loss: 0.6184 - val_accuracy: 0.0000e+00\n",
            "Epoch 10/50\n",
            "1/1 [==============================] - 0s 42ms/step - loss: 0.5772 - accuracy: 0.4167 - val_loss: 0.6032 - val_accuracy: 0.0000e+00\n",
            "Epoch 11/50\n",
            "1/1 [==============================] - 0s 47ms/step - loss: 0.5612 - accuracy: 0.4167 - val_loss: 0.5886 - val_accuracy: 0.0000e+00\n",
            "Epoch 12/50\n",
            "1/1 [==============================] - 0s 40ms/step - loss: 0.5461 - accuracy: 0.4167 - val_loss: 0.5746 - val_accuracy: 0.0000e+00\n",
            "Epoch 13/50\n",
            "1/1 [==============================] - 0s 40ms/step - loss: 0.5317 - accuracy: 0.4167 - val_loss: 0.5613 - val_accuracy: 0.0000e+00\n",
            "Epoch 14/50\n",
            "1/1 [==============================] - 0s 39ms/step - loss: 0.5180 - accuracy: 0.4167 - val_loss: 0.5487 - val_accuracy: 0.0000e+00\n",
            "Epoch 15/50\n",
            "1/1 [==============================] - 0s 41ms/step - loss: 0.5052 - accuracy: 0.4167 - val_loss: 0.5370 - val_accuracy: 0.0000e+00\n",
            "Epoch 16/50\n",
            "1/1 [==============================] - 0s 43ms/step - loss: 0.4932 - accuracy: 0.5833 - val_loss: 0.5262 - val_accuracy: 0.7500\n",
            "Epoch 17/50\n",
            "1/1 [==============================] - 0s 40ms/step - loss: 0.4820 - accuracy: 0.8333 - val_loss: 0.5164 - val_accuracy: 0.7500\n",
            "Epoch 18/50\n",
            "1/1 [==============================] - 0s 41ms/step - loss: 0.4717 - accuracy: 0.9167 - val_loss: 0.5078 - val_accuracy: 0.7500\n",
            "Epoch 19/50\n",
            "1/1 [==============================] - 0s 40ms/step - loss: 0.4622 - accuracy: 0.9167 - val_loss: 0.5005 - val_accuracy: 0.7500\n",
            "Epoch 20/50\n",
            "1/1 [==============================] - 0s 41ms/step - loss: 0.4534 - accuracy: 0.9167 - val_loss: 0.4945 - val_accuracy: 0.7500\n",
            "Epoch 21/50\n",
            "1/1 [==============================] - 0s 42ms/step - loss: 0.4455 - accuracy: 0.8333 - val_loss: 0.4897 - val_accuracy: 0.7500\n",
            "Epoch 22/50\n",
            "1/1 [==============================] - 0s 43ms/step - loss: 0.4383 - accuracy: 0.8333 - val_loss: 0.4862 - val_accuracy: 0.7500\n",
            "Epoch 23/50\n",
            "1/1 [==============================] - 0s 50ms/step - loss: 0.4317 - accuracy: 0.9167 - val_loss: 0.4838 - val_accuracy: 0.7500\n",
            "Epoch 24/50\n",
            "1/1 [==============================] - 0s 42ms/step - loss: 0.4259 - accuracy: 0.9167 - val_loss: 0.4824 - val_accuracy: 0.7500\n",
            "Epoch 25/50\n",
            "1/1 [==============================] - 0s 42ms/step - loss: 0.4205 - accuracy: 0.9167 - val_loss: 0.4819 - val_accuracy: 0.7500\n",
            "Epoch 26/50\n",
            "1/1 [==============================] - 0s 40ms/step - loss: 0.4156 - accuracy: 0.9167 - val_loss: 0.4822 - val_accuracy: 0.7500\n",
            "Epoch 27/50\n",
            "1/1 [==============================] - 0s 43ms/step - loss: 0.4111 - accuracy: 0.9167 - val_loss: 0.4830 - val_accuracy: 0.7500\n",
            "Epoch 28/50\n",
            "1/1 [==============================] - 0s 57ms/step - loss: 0.4068 - accuracy: 0.9167 - val_loss: 0.4840 - val_accuracy: 0.7500\n",
            "Epoch 29/50\n",
            "1/1 [==============================] - 0s 44ms/step - loss: 0.4028 - accuracy: 0.9167 - val_loss: 0.4848 - val_accuracy: 0.7500\n",
            "Epoch 30/50\n",
            "1/1 [==============================] - 0s 41ms/step - loss: 0.3992 - accuracy: 0.9167 - val_loss: 0.4852 - val_accuracy: 0.7500\n",
            "Epoch 31/50\n",
            "1/1 [==============================] - 0s 40ms/step - loss: 0.3957 - accuracy: 0.9167 - val_loss: 0.4850 - val_accuracy: 0.7500\n",
            "Epoch 32/50\n",
            "1/1 [==============================] - 0s 40ms/step - loss: 0.3925 - accuracy: 0.9167 - val_loss: 0.4839 - val_accuracy: 0.7500\n",
            "Epoch 33/50\n",
            "1/1 [==============================] - 0s 42ms/step - loss: 0.3893 - accuracy: 0.9167 - val_loss: 0.4819 - val_accuracy: 0.7500\n",
            "Epoch 34/50\n",
            "1/1 [==============================] - 0s 41ms/step - loss: 0.3862 - accuracy: 0.9167 - val_loss: 0.4790 - val_accuracy: 0.7500\n",
            "Epoch 35/50\n",
            "1/1 [==============================] - 0s 40ms/step - loss: 0.3831 - accuracy: 0.9167 - val_loss: 0.4752 - val_accuracy: 0.7500\n",
            "Epoch 36/50\n",
            "1/1 [==============================] - 0s 40ms/step - loss: 0.3799 - accuracy: 0.9167 - val_loss: 0.4707 - val_accuracy: 0.7500\n",
            "Epoch 37/50\n",
            "1/1 [==============================] - 0s 40ms/step - loss: 0.3767 - accuracy: 0.9167 - val_loss: 0.4658 - val_accuracy: 0.7500\n",
            "Epoch 38/50\n",
            "1/1 [==============================] - 0s 40ms/step - loss: 0.3733 - accuracy: 0.9167 - val_loss: 0.4607 - val_accuracy: 0.7500\n",
            "Epoch 39/50\n",
            "1/1 [==============================] - 0s 42ms/step - loss: 0.3699 - accuracy: 0.9167 - val_loss: 0.4556 - val_accuracy: 0.7500\n",
            "Epoch 40/50\n",
            "1/1 [==============================] - 0s 41ms/step - loss: 0.3663 - accuracy: 0.9167 - val_loss: 0.4505 - val_accuracy: 0.7500\n",
            "Epoch 41/50\n",
            "1/1 [==============================] - 0s 41ms/step - loss: 0.3626 - accuracy: 0.9167 - val_loss: 0.4458 - val_accuracy: 0.7500\n",
            "Epoch 42/50\n",
            "1/1 [==============================] - 0s 50ms/step - loss: 0.3586 - accuracy: 0.9167 - val_loss: 0.4415 - val_accuracy: 0.7500\n",
            "Epoch 43/50\n",
            "1/1 [==============================] - 0s 41ms/step - loss: 0.3544 - accuracy: 0.9167 - val_loss: 0.4375 - val_accuracy: 0.7500\n",
            "Epoch 44/50\n",
            "1/1 [==============================] - 0s 40ms/step - loss: 0.3500 - accuracy: 0.9167 - val_loss: 0.4340 - val_accuracy: 0.7500\n",
            "Epoch 45/50\n",
            "1/1 [==============================] - 0s 47ms/step - loss: 0.3452 - accuracy: 0.9167 - val_loss: 0.4308 - val_accuracy: 0.7500\n",
            "Epoch 46/50\n",
            "1/1 [==============================] - 0s 42ms/step - loss: 0.3401 - accuracy: 0.9167 - val_loss: 0.4278 - val_accuracy: 0.7500\n",
            "Epoch 47/50\n",
            "1/1 [==============================] - 0s 42ms/step - loss: 0.3346 - accuracy: 0.9167 - val_loss: 0.4247 - val_accuracy: 0.7500\n",
            "Epoch 48/50\n",
            "1/1 [==============================] - 0s 42ms/step - loss: 0.3289 - accuracy: 0.9167 - val_loss: 0.4214 - val_accuracy: 0.7500\n",
            "Epoch 49/50\n",
            "1/1 [==============================] - 0s 40ms/step - loss: 0.3229 - accuracy: 0.9167 - val_loss: 0.4175 - val_accuracy: 0.7500\n",
            "Epoch 50/50\n",
            "1/1 [==============================] - 0s 42ms/step - loss: 0.3168 - accuracy: 0.9167 - val_loss: 0.4121 - val_accuracy: 0.7500\n"
          ]
        }
      ]
    },
    {
      "cell_type": "code",
      "source": [
        "# Plotting the training and validation loss\n",
        "plt.plot(history.history['loss'], label='train_loss')\n",
        "plt.plot(history.history['val_loss'], label='val_loss')\n",
        "plt.title('Model loss')\n",
        "plt.xlabel('Epoch')\n",
        "plt.ylabel('Loss')\n",
        "plt.legend()\n",
        "plt.show()\n",
        "\n",
        "# Plotting the training and validation accuracy\n",
        "plt.plot(history.history['accuracy'], label='train_acc')\n",
        "plt.plot(history.history['val_accuracy'], label='val_acc')\n",
        "plt.title('Model accuracy')\n",
        "plt.xlabel('Epoch')\n",
        "plt.ylabel('Accuracy')\n",
        "plt.legend()\n",
        "plt.show()\n"
      ],
      "metadata": {
        "colab": {
          "base_uri": "https://localhost:8080/",
          "height": 927
        },
        "id": "ORsUWL1LljKa",
        "outputId": "974c3cac-1acf-4902-c32c-e674f5695c12"
      },
      "execution_count": null,
      "outputs": [
        {
          "output_type": "display_data",
          "data": {
            "text/plain": [
              "<Figure size 640x480 with 1 Axes>"
            ],
            "image/png": "[encoded data removed]"
          },
          "metadata": {}
        },
        {
          "output_type": "display_data",
          "data": {
            "text/plain": [
              "<Figure size 640x480 with 1 Axes>"
            ],
            "image/png": "[encoded data removed]"
          },
          "metadata": {}
        }
      ]
    },
    {
      "cell_type": "code",
      "source": [
        "# Evaluating the LSTM model and printing accuracies\n",
        "scores = model.evaluate(X_test, y_test, verbose=0)\n",
        "print(f\"Accuracy: {scores[1]*100}\")"
      ],
      "metadata": {
        "colab": {
          "base_uri": "https://localhost:8080/"
        },
        "id": "LmodUVZIu8gZ",
        "outputId": "da8e3497-ebb9-4789-9b96-053eb0665ab5"
      },
      "execution_count": null,
      "outputs": [
        {
          "output_type": "stream",
          "name": "stdout",
          "text": [
            "Accuracy: 75.0\n"
          ]
        }
      ]
    }
  ],
  "metadata": {
    "colab": {
      "provenance": []
    },
    "kernelspec": {
      "display_name": "Python 3",
      "name": "python3"
    },
    "language_info": {
      "name": "python"
    }
  },
  "nbformat": 4,
  "nbformat_minor": 0
}